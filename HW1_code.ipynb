{
 "cells": [
  {
   "cell_type": "markdown",
   "metadata": {},
   "source": [
    "# Photometry Homework"
   ]
  },
  {
   "cell_type": "code",
   "execution_count": 111,
   "metadata": {
    "scrolled": true
   },
   "outputs": [],
   "source": [
    "from astropy.io import fits\n",
    "from glob import glob\n",
    "import numpy as np\n",
    "import matplotlib.pyplot as plt\n",
    "from scipy.optimize import curve_fit"
   ]
  },
  {
   "cell_type": "code",
   "execution_count": 114,
   "metadata": {
    "scrolled": true
   },
   "outputs": [],
   "source": [
    "darks_filenames = glob('2020-10-17/h_persei_darks*')\n",
    "darks = []\n",
    "darks_filters = []\n",
    "\n",
    "for i in range(len(darks_filenames[1:])):\n",
    "    darks.append(fits.getdata(darks_filenames[i]))\n",
    "    hdul = fits.open(darks_filenames[i])\n",
    "    darks_filters.append(hdul[0].header['FILTER'])\n",
    "    hdul.close()\n",
    "    \n",
    "darks = np.asarray(darks)\n",
    "darks = darks.astype(float)"
   ]
  },
  {
   "cell_type": "code",
   "execution_count": 115,
   "metadata": {
    "scrolled": true
   },
   "outputs": [],
   "source": [
    "flats_filenames = glob('2020-10-17/h_persei_flats*')\n",
    "flats = []\n",
    "flats_filters = []\n",
    "\n",
    "for i in range(len(flats_filenames[1:])):\n",
    "    flats.append(fits.getdata(flats_filenames[i]))\n",
    "    hdul = fits.open(flats_filenames[i])\n",
    "    flats_filters.append(hdul[0].header['FILTER'])\n",
    "    hdul.close()\n",
    "    \n",
    "\n",
    "flats_filters = np.asarray(flats_filters)\n",
    "flats = np.asarray(flats)\n",
    "flats = flats.astype(float)\n",
    "\n",
    "R_flats = flats[np.where(flats_filters == 'R')]\n",
    "V_flats = flats[np.where(flats_filters == 'V')]\n",
    "B_flats = flats[np.where(flats_filters == 'B')]\n",
    "I_flats = flats[np.where(flats_filters == 'I')]"
   ]
  },
  {
   "cell_type": "code",
   "execution_count": 116,
   "metadata": {
    "scrolled": true
   },
   "outputs": [],
   "source": [
    "seq_filenames = np.sort(glob('2020-10-17/h_persei_seq*'))\n",
    "seq_light = []\n",
    "seq_dark = []\n",
    "seq_filters = []\n",
    "\n",
    "for i in range(len(seq_filenames[1:])):\n",
    "        \n",
    "    hdul = fits.open(seq_filenames[i])\n",
    "    if hdul[0].header['FRAME'] == 'Light':\n",
    "        seq_filters.append(hdul[0].header['FILTER'])\n",
    "        seq_light.append(fits.getdata(seq_filenames[i]))\n",
    "    else:\n",
    "        seq_dark.append(fits.getdata(seq_filenames[i]))\n",
    "    hdul.close()\n",
    "\n",
    "seq_filters = np.asarray(seq_filters)\n",
    "seq_light = np.asarray(seq_light)\n",
    "seq_light = seq_light.astype(float)\n",
    "\n",
    "\n",
    "R_seq = seq_light[np.where(seq_filters == 'R')]\n",
    "V_seq = seq_light[np.where(seq_filters == 'V')]\n",
    "B_seq = seq_light[np.where(seq_filters == 'B')]\n",
    "I_seq = seq_light[np.where(seq_filters == 'I')]"
   ]
  },
  {
   "cell_type": "markdown",
   "metadata": {},
   "source": [
    "### Master Dark:"
   ]
  },
  {
   "cell_type": "code",
   "execution_count": 117,
   "metadata": {
    "scrolled": true
   },
   "outputs": [],
   "source": [
    "master_V_dark = np.median(seq_dark, axis=0)"
   ]
  },
  {
   "cell_type": "markdown",
   "metadata": {},
   "source": [
    "### Master Flat:"
   ]
  },
  {
   "cell_type": "code",
   "execution_count": 118,
   "metadata": {
    "scrolled": true
   },
   "outputs": [],
   "source": [
    "comb_V_flat = np.median(V_flats,axis=0) - master_V_dark\n",
    "div = master_V_dark/np.median(comb_V_flat)\n",
    "master_V_flat = comb_V_flat - div"
   ]
  },
  {
   "cell_type": "markdown",
   "metadata": {},
   "source": [
    "### Subtract dark and divide by flat for each science frame"
   ]
  },
  {
   "cell_type": "code",
   "execution_count": 119,
   "metadata": {
    "scrolled": true
   },
   "outputs": [],
   "source": [
    "V_proc = []\n",
    "\n",
    "for i in range(len(V_seq)):\n",
    "    V_proc_temp = V_seq[i] - master_V_dark\n",
    "    V_proc.append(V_proc_temp/master_V_flat)"
   ]
  },
  {
   "cell_type": "markdown",
   "metadata": {},
   "source": [
    "### Shifting frames"
   ]
  },
  {
   "cell_type": "code",
   "execution_count": 120,
   "metadata": {
    "scrolled": true
   },
   "outputs": [],
   "source": [
    "V1 = V_seq[0]\n",
    "V2 = np.roll(V_proc[1], [0,4], axis=(0,1))\n",
    "V3 = np.roll(V_proc[2], [0,7], axis=(0,1))\n",
    "V4 = np.roll(V_proc[3], [0,7], axis=(0,1))\n",
    "V5 = np.roll(V_proc[4], [-1,8], axis=(0,1))\n",
    "V6 = np.roll(V_proc[5], [-2,7], axis=(0,1))\n",
    "V7 = np.roll(V_proc[6], [-3,5], axis=(0,1))\n",
    "V8 = np.roll(V_proc[7], [-6,3], axis=(0,1))\n",
    "V9 = np.roll(V_proc[8], [-8,2], axis=(0,1))\n",
    "V10 = np.roll(V_proc[9], [-10,-1], axis=(0,1))\n",
    "\n",
    "V = [V1, V2, V3, V4, V5, V6, V7, V8, V9, V10]\n",
    "V = np.asarray(V)\n",
    "V = np.median(V, axis=0)\n",
    "Vf = np.flip(V, 0)"
   ]
  },
  {
   "cell_type": "markdown",
   "metadata": {},
   "source": [
    "## PSF characteristics\n",
    "Use the image in one band you have selected to measure the typical FWHM (in pixels) of the stars in the field.  You should check several stars (3-5).  They should be isolated and relatively bright, but be sure to avoid saturated stars.  Record the FWHM values."
   ]
  },
  {
   "cell_type": "markdown",
   "metadata": {},
   "source": [
    "This part is from stackoverflow"
   ]
  },
  {
   "cell_type": "code",
   "execution_count": 121,
   "metadata": {
    "scrolled": true
   },
   "outputs": [],
   "source": [
    "from astropy.modeling import models, fitting"
   ]
  },
  {
   "cell_type": "code",
   "execution_count": 122,
   "metadata": {
    "scrolled": true
   },
   "outputs": [],
   "source": [
    "# Cut out smaller box around PSF\n",
    "def cutout(image, bb, center):\n",
    "    xc = int(center[0])\n",
    "    yc = int(center[1])\n",
    "    box = image[yc-bb:yc+bb, xc-bb:xc+bb]\n",
    "    xp, yp = box.shape\n",
    "    return xp, yp, box"
   ]
  },
  {
   "cell_type": "code",
   "execution_count": 123,
   "metadata": {
    "scrolled": true
   },
   "outputs": [],
   "source": [
    "def gaussian(yp, xp, box):\n",
    "    # Generate grid of same size like box to put the fit on\n",
    "    y, x, = np.mgrid[:yp, :xp]\n",
    "    # Declare what function you want to fit to your data\n",
    "    f_init = models.Gaussian2D()\n",
    "    # Declare what fitting function you want to use\n",
    "    fit_f = fitting.LevMarLSQFitter()\n",
    "    \n",
    "    # Fit the model to your data (box)\n",
    "    fV = fit_f(f_init, x, y, box)\n",
    "    \n",
    "    return fV, x, y"
   ]
  },
  {
   "cell_type": "code",
   "execution_count": 124,
   "metadata": {
    "scrolled": true
   },
   "outputs": [],
   "source": [
    "def sigma_avg(x,y):\n",
    "    return np.mean([float(x), float(y)])"
   ]
  },
  {
   "cell_type": "markdown",
   "metadata": {},
   "source": [
    "### Using astrometry.net I identified a bunch of stars and calculated the plate scale to be:"
   ]
  },
  {
   "cell_type": "markdown",
   "metadata": {},
   "source": [
    "## 0.605 arcsec/pixel ##"
   ]
  },
  {
   "cell_type": "markdown",
   "metadata": {},
   "source": [
    "http://nova.astrometry.net/user_images/4128020#annotated"
   ]
  },
  {
   "cell_type": "code",
   "execution_count": 127,
   "metadata": {
    "scrolled": true
   },
   "outputs": [],
   "source": [
    "def psf(image, targ_loc, boxsize, apt, apt_sky_in, apt_sky_out, plot='star'): \n",
    "    \n",
    "    # Cut out a square of 'radius' boxsize around a star (specified by targ_loc)\n",
    "    F_sky_pix = []\n",
    "    targ_loc[1] = 1266-targ_loc[1]\n",
    "    xp, yp, current_image = cutout(image, boxsize, targ_loc)\n",
    "    \n",
    "    # Fit a 2D gaussian to the cutout\n",
    "    fV, x, y = gaussian(xp, yp, current_image)\n",
    "\n",
    "###### Use this to debug\n",
    "#    if plot=='star':\n",
    "#        plt.imshow(current_image)\n",
    "#        plt.show()\n",
    "#    elif plot =='gaussian':\n",
    "#        plt.imshow(fV(x,y))\n",
    "#        plt.show()\n",
    "#    if plot=='cutout':\n",
    "        #plt.imshow(circ_image)\n",
    "        #plt.show()\n",
    "    \n",
    "    # Sneakily convert 2D Gaussian into 1D by taking the average of the two sigmas.\n",
    "    sigma = sigma_avg(fV.x_stddev[0],fV.y_stddev[0])\n",
    "    fwhm = 2.355*float(sigma)\n",
    "    fit = fV(x, y)\n",
    "    # Find the center of the star based on the center of the fitted 2D Gaussian\n",
    "    center = np.where(fit == np.max(fit))\n",
    " \n",
    "    # Cut out a circle and a 'donut' based on the specified parameters.\n",
    "    # Calculate number of pixels in the circle\n",
    "    circ_image = np.zeros(current_image.shape)\n",
    "    N_targ = 0\n",
    "    for i in range(len(current_image)):\n",
    "        for j in range(len(current_image[0])):\n",
    "            dist = np.sqrt((center[0]-i)**2+(center[1]-j)**2)\n",
    "            if dist >= apt_sky_in*fwhm and dist <= apt_sky_out*fwhm:\n",
    "                F_sky_pix.append(current_image[i][j])  \n",
    "            if (dist > apt*fwhm):\n",
    "                circ_image[i][j] = 0.0 # this is the same cutout image but with all values outside of the radius set to NaN\n",
    "            else:\n",
    "                circ_image[i][j] = current_image[i][j]\n",
    "                N_targ+=1 # total number of pixels in the 'aperture'\n",
    "\n",
    "    # Total flux in the aperture, median flux of the sky in the donut\n",
    "    F_sky_pix_med = np.median(F_sky_pix)\n",
    "    F_targ_raw = 0\n",
    "    F_targ_raw = np.sum(circ_image)\n",
    "       \n",
    "    # Get flux per second (5 second exposure)\n",
    "    F_targ = F_targ_raw - N_targ*F_sky_pix_med\n",
    "    F_targ_pers = F_targ/5. #ADU/s\n",
    "                        \n",
    "    return F_targ_pers"
   ]
  },
  {
   "cell_type": "code",
   "execution_count": 139,
   "metadata": {},
   "outputs": [],
   "source": [
    "def get_flux_per_s(ap, apsky_in, apsky_out):\n",
    "    tnames = ['2-3694-3626-1', '2-3694-2565-1', '2-3694-2943-1', '2-3694-1712-1', '2-3694-2537-1', '2-3694-2413-1', '2-3694-3750-1', '2-3694-3451-1', '2-3694-1921-1', '2-3694-1822-1', '2-3694-1719-1',  '2-3694-1853-1', '2-3694-1363-1']\n",
    "    targlocs = [[440, 134], [382,1013], [529, 634], [892, 1139], [334, 462], [506, 139], [194, 272], [329,956], [613,642], [1150, 146], [1032, 812], [1463, 134], [1485, 1077]]\n",
    "    # Sometimes things don't work. I blame Gaussian fitter. That's why I kept changing boxseizes for each star\n",
    "    # individually until it worked. I guess it has something to do with not having enough background for a fit\n",
    "    boxsizes = [25, 35, 45, 30, 26, 35, 36, 40, 40, 40, 27, 20, 56]\n",
    "    Flux_per_s = [0, 0, 0, 0, 0, 0, 0, 0, 0, 0, 0, 0, 0]\n",
    "\n",
    "    for i in range(len(targlocs)):\n",
    "        try:\n",
    "            F_targ_pers = psf(Vf, targlocs[i], boxsizes[i], ap, apsky_in, apsky_out, plot='cutout')\n",
    "            Flux_per_s[i] = F_targ_pers\n",
    "        except TypeError:\n",
    "            print(i+1, 'TypeError')\n",
    "        except ValueError:\n",
    "            print(i+1, 'ValueError')\n",
    "    return Flux_per_s"
   ]
  },
  {
   "cell_type": "markdown",
   "metadata": {},
   "source": [
    "### magnitudes of the selected stars from simbad\n",
    "The stars were identified using nova.astrometry.net. All selected stars were selected to be a considarable distance from other stars."
   ]
  },
  {
   "cell_type": "code",
   "execution_count": 129,
   "metadata": {},
   "outputs": [],
   "source": [
    "simbad_mags = [7.7866, 8.2215, 8.3765, 10.17, 9.4150, 8.3904, 10.219, 10.6020, 8.5262, 11.1, 8.4634, 9.3223, 11.320]"
   ]
  },
  {
   "cell_type": "code",
   "execution_count": 140,
   "metadata": {},
   "outputs": [],
   "source": [
    "def m_i(flux):\n",
    "    return -2.5*np.log10(flux)\n",
    "\n",
    "def dm_std(m_cat_std, flux_std):\n",
    "    dm = m_cat_std - m_i(flux_std)\n",
    "    return dm\n",
    "\n",
    "def m_obs(dm, flux_targ):\n",
    "    m_obs = m_i(flux_targ) + dm\n",
    "    return m_obs"
   ]
  },
  {
   "cell_type": "code",
   "execution_count": 143,
   "metadata": {},
   "outputs": [],
   "source": [
    "# Automate everything\n",
    "def Our_Sim(Flux_per_s):\n",
    "    simbad_mags = [7.7866, 8.2215, 8.3765, 10.17, 9.4150, 8.3904, 10.219, 10.6020, 8.5262, 11.1, 8.4634, 9.3223, 11.320]\n",
    "    dm = dm_std(simbad_mags, Flux_per_s)\n",
    "    DM = np.mean(dm)\n",
    "    Obs_Mag = m_obs(DM, Flux_per_s)\n",
    "    Our_vs_Sim = simbad_mags - Obs_Mag\n",
    "    return Our_vs_Sim"
   ]
  },
  {
   "cell_type": "markdown",
   "metadata": {},
   "source": [
    "## Simbad - calibrated magnitude for four configurations\n",
    "The three inputs are: inner apperature, sky 'donut' inner radius and outter radius. \\\n",
    "The calibration process happens for every star (dm is calculated for each star) and then the average dm is taken. This is then used to calibrate observed fluxes and compare them\n",
    "to simbad magnitudes."
   ]
  },
  {
   "cell_type": "code",
   "execution_count": null,
   "metadata": {},
   "outputs": [],
   "source": []
  },
  {
   "cell_type": "code",
   "execution_count": 135,
   "metadata": {},
   "outputs": [
    {
     "data": {
      "text/plain": [
       "array([-0.04616713, -0.60101187, -0.68912206,  0.95413035,  0.33434125,\n",
       "       -0.54353479,  0.48617209,  0.39709701, -0.75009817,  0.88786966,\n",
       "       -0.59421783, -0.2091124 ,  0.3736539 ])"
      ]
     },
     "execution_count": 135,
     "metadata": {},
     "output_type": "execute_result"
    }
   ],
   "source": [
    "Our_Sim(get_flux_per_s(1.3,2,3))"
   ]
  },
  {
   "cell_type": "code",
   "execution_count": 136,
   "metadata": {},
   "outputs": [
    {
     "data": {
      "text/plain": [
       "array([-0.10000446, -0.57529161, -0.69612783,  0.98194785,  0.41530491,\n",
       "       -0.57662707,  0.51843585,  0.42075351, -0.73527908,  0.89389975,\n",
       "       -0.61903256, -0.27238372,  0.34440446])"
      ]
     },
     "execution_count": 136,
     "metadata": {},
     "output_type": "execute_result"
    }
   ],
   "source": [
    "Our_Sim(get_flux_per_s(0.5,2,3))"
   ]
  },
  {
   "cell_type": "code",
   "execution_count": 108,
   "metadata": {},
   "outputs": [
    {
     "data": {
      "text/plain": [
       "array([-0.0442743 , -0.60406424, -0.68162472,  0.94928422,  0.32810494,\n",
       "       -0.54643671,  0.4831887 ,  0.39597526, -0.74590035,  0.89849365,\n",
       "       -0.58942092, -0.22060098,  0.37727546])"
      ]
     },
     "execution_count": 108,
     "metadata": {},
     "output_type": "execute_result"
    }
   ],
   "source": [
    "Our_Sim(get_flux_per_s(2,2,3))"
   ]
  },
  {
   "cell_type": "code",
   "execution_count": 109,
   "metadata": {
    "scrolled": true
   },
   "outputs": [
    {
     "data": {
      "text/plain": [
       "array([-0.04434767, -0.60051344, -0.68831321,  0.95414702,  0.33436772,\n",
       "       -0.54258036,  0.48592915,  0.39606743, -0.75012969,  0.88672121,\n",
       "       -0.59312296, -0.2102859 ,  0.37206071])"
      ]
     },
     "execution_count": 109,
     "metadata": {},
     "output_type": "execute_result"
    }
   ],
   "source": [
    "Our_Sim(get_flux_per_s(1.3,1.5,3))"
   ]
  },
  {
   "cell_type": "code",
   "execution_count": null,
   "metadata": {},
   "outputs": [],
   "source": []
  },
  {
   "cell_type": "code",
   "execution_count": null,
   "metadata": {},
   "outputs": [],
   "source": []
  },
  {
   "cell_type": "code",
   "execution_count": null,
   "metadata": {},
   "outputs": [],
   "source": []
  }
 ],
 "metadata": {
  "kernelspec": {
   "display_name": "Python 3",
   "language": "python",
   "name": "python3"
  },
  "language_info": {
   "codemirror_mode": {
    "name": "ipython",
    "version": 3
   },
   "file_extension": ".py",
   "mimetype": "text/x-python",
   "name": "python",
   "nbconvert_exporter": "python",
   "pygments_lexer": "ipython3",
   "version": "3.8.5"
  }
 },
 "nbformat": 4,
 "nbformat_minor": 4
}
