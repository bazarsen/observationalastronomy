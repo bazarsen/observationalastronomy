{
 "cells": [
  {
   "cell_type": "markdown",
   "metadata": {},
   "source": [
    "# Photometry Homework"
   ]
  },
  {
   "cell_type": "markdown",
   "metadata": {},
   "source": [
    "Obs Tech - Homework 2\n",
    "21 October 2020\n",
    "Due: Thursday (November 5)\n",
    "\n",
    "\n",
    "The primary goal of this homework is for the student to become familiar with the tools for photometry that will be needed for their class project. "
   ]
  },
  {
   "cell_type": "markdown",
   "metadata": {},
   "source": [
    "Median combine darks for each exposure time\n",
    "This creates the Master Dark for each exposure time\n",
    "Median combine flat images for each filter\n",
    "Subtract the appropriate Master Dark from the appropriate Combined Flat Image for each filter\n",
    "To create the Master Flat\n",
    "(master_flat = combined_flat-Dark / np.median(combined_flat)\n",
    "Take the individual science frames and subtract the appropriate master dark\n",
    "Divide by the master flat\n",
    "Align the images using np.roll on the array\n",
    "Now when they are aligned, median combine them to create master science "
   ]
  },
  {
   "cell_type": "code",
   "execution_count": 1,
   "metadata": {
    "scrolled": true
   },
   "outputs": [],
   "source": [
    "from astropy.io import fits\n",
    "from glob import glob\n",
    "import numpy as np\n",
    "import matplotlib.pyplot as plt\n",
    "from scipy.optimize import curve_fit"
   ]
  },
  {
   "cell_type": "markdown",
   "metadata": {},
   "source": [
    "## Select data\n",
    "For this exercise, we will use RHO 14-inch data taken last week on the open cluster h Per.\n",
    "\n",
    "Inspect the images, and make sure that the data looks OK. "
   ]
  },
  {
   "cell_type": "code",
   "execution_count": 2,
   "metadata": {
    "scrolled": true
   },
   "outputs": [
    {
     "name": "stderr",
     "output_type": "stream",
     "text": [
      "WARNING: non-ASCII characters are present in the FITS file header and have been replaced by \"?\" characters [astropy.io.fits.util]\n"
     ]
    },
    {
     "data": {
      "text/plain": [
       "(9, 1266, 1676)"
      ]
     },
     "execution_count": 2,
     "metadata": {},
     "output_type": "execute_result"
    }
   ],
   "source": [
    "darks_filenames = glob('2020-10-17/h_persei_darks*')\n",
    "darks = []\n",
    "darks_filters = []\n",
    "\n",
    "for i in range(len(darks_filenames[1:])):\n",
    "    darks.append(fits.getdata(darks_filenames[i]))\n",
    "    hdul = fits.open(darks_filenames[i])\n",
    "    darks_filters.append(hdul[0].header['FILTER'])\n",
    "    hdul.close()\n",
    "    \n",
    "darks = np.asarray(darks)\n",
    "darks = darks.astype(float)\n",
    "darks.shape"
   ]
  },
  {
   "cell_type": "code",
   "execution_count": 3,
   "metadata": {
    "scrolled": true
   },
   "outputs": [],
   "source": [
    "flats_filenames = glob('2020-10-17/h_persei_flats*')\n",
    "flats = []\n",
    "flats_filters = []\n",
    "\n",
    "for i in range(len(flats_filenames[1:])):\n",
    "    flats.append(fits.getdata(flats_filenames[i]))\n",
    "    hdul = fits.open(flats_filenames[i])\n",
    "    flats_filters.append(hdul[0].header['FILTER'])\n",
    "    hdul.close()\n",
    "    \n",
    "\n",
    "flats_filters = np.asarray(flats_filters)\n",
    "flats = np.asarray(flats)\n",
    "flats = flats.astype(float)\n",
    "\n",
    "R_flats = flats[np.where(flats_filters == 'R')]\n",
    "V_flats = flats[np.where(flats_filters == 'V')]\n",
    "B_flats = flats[np.where(flats_filters == 'B')]\n",
    "I_flats = flats[np.where(flats_filters == 'I')]"
   ]
  },
  {
   "cell_type": "code",
   "execution_count": 4,
   "metadata": {
    "scrolled": true
   },
   "outputs": [],
   "source": [
    "seq_filenames = np.sort(glob('2020-10-17/h_persei_seq*'))\n",
    "seq_light = []\n",
    "seq_dark = []\n",
    "seq_filters = []\n",
    "\n",
    "for i in range(len(seq_filenames[1:])):\n",
    "        \n",
    "    hdul = fits.open(seq_filenames[i])\n",
    "    if hdul[0].header['FRAME'] == 'Light':\n",
    "        seq_filters.append(hdul[0].header['FILTER'])\n",
    "        seq_light.append(fits.getdata(seq_filenames[i]))\n",
    "    else:\n",
    "        seq_dark.append(fits.getdata(seq_filenames[i]))\n",
    "    hdul.close()\n",
    "\n",
    "seq_filters = np.asarray(seq_filters)\n",
    "seq_light = np.asarray(seq_light)\n",
    "seq_light = seq_light.astype(float)\n",
    "\n",
    "\n",
    "R_seq = seq_light[np.where(seq_filters == 'R')]\n",
    "V_seq = seq_light[np.where(seq_filters == 'V')]\n",
    "B_seq = seq_light[np.where(seq_filters == 'B')]\n",
    "I_seq = seq_light[np.where(seq_filters == 'I')]"
   ]
  },
  {
   "cell_type": "markdown",
   "metadata": {},
   "source": [
    "### Master Dark:"
   ]
  },
  {
   "cell_type": "code",
   "execution_count": 5,
   "metadata": {
    "scrolled": true
   },
   "outputs": [],
   "source": [
    "master_V_dark = np.median(seq_dark, axis=0)"
   ]
  },
  {
   "cell_type": "markdown",
   "metadata": {},
   "source": [
    "### Master Flat:"
   ]
  },
  {
   "cell_type": "code",
   "execution_count": 6,
   "metadata": {
    "scrolled": true
   },
   "outputs": [],
   "source": [
    "comb_V_flat = np.median(V_flats,axis=0) - master_V_dark\n",
    "div = master_V_dark/np.median(comb_V_flat)\n",
    "master_V_flat = comb_V_flat - div"
   ]
  },
  {
   "cell_type": "markdown",
   "metadata": {},
   "source": [
    "### Subtract dark and divide by flat for each science frame"
   ]
  },
  {
   "cell_type": "code",
   "execution_count": 7,
   "metadata": {
    "scrolled": true
   },
   "outputs": [],
   "source": [
    "V_proc = []\n",
    "\n",
    "for i in range(len(V_seq)):\n",
    "    V_proc_temp = V_seq[i] - master_V_dark\n",
    "    V_proc.append(V_proc_temp/master_V_flat)"
   ]
  },
  {
   "cell_type": "markdown",
   "metadata": {},
   "source": [
    "### Shifting frames"
   ]
  },
  {
   "cell_type": "code",
   "execution_count": 8,
   "metadata": {
    "scrolled": true
   },
   "outputs": [],
   "source": [
    "V1 = V_seq[0]\n",
    "V2 = np.roll(V_proc[1], [0,4], axis=(0,1))\n",
    "V3 = np.roll(V_proc[2], [0,7], axis=(0,1))\n",
    "V4 = np.roll(V_proc[3], [0,7], axis=(0,1))\n",
    "V5 = np.roll(V_proc[4], [-1,8], axis=(0,1))\n",
    "V6 = np.roll(V_proc[5], [-2,7], axis=(0,1))\n",
    "V7 = np.roll(V_proc[6], [-3,5], axis=(0,1))\n",
    "V8 = np.roll(V_proc[7], [-6,3], axis=(0,1))\n",
    "V9 = np.roll(V_proc[8], [-8,2], axis=(0,1))\n",
    "V10 = np.roll(V_proc[9], [-10,-1], axis=(0,1))\n",
    "\n",
    "V = [V1, V2, V3, V4, V5, V6, V7, V8, V9, V10]\n",
    "V = np.asarray(V)\n",
    "V = np.median(V, axis=0)"
   ]
  },
  {
   "cell_type": "markdown",
   "metadata": {},
   "source": [
    "## PSF characteristics\n",
    "Use the image in one band you have selected to measure the typical FWHM (in pixels) of the stars in the field.  You should check several stars (3-5).  They should be isolated and relatively bright, but be sure to avoid saturated stars.  Record the FWHM values."
   ]
  },
  {
   "cell_type": "code",
   "execution_count": 9,
   "metadata": {
    "scrolled": true
   },
   "outputs": [],
   "source": [
    "from astropy.modeling import models, fitting"
   ]
  },
  {
   "cell_type": "code",
   "execution_count": 10,
   "metadata": {
    "scrolled": true
   },
   "outputs": [],
   "source": [
    "# Cut out smaller box around PSF\n",
    "def cutout(image, bb, center):\n",
    "    xc = int(center[0])\n",
    "    yc = int(center[1])\n",
    "    box = image[yc-bb:yc+bb, xc-bb:xc+bb]\n",
    "    xp, yp = box.shape\n",
    "    return xp, yp, box"
   ]
  },
  {
   "cell_type": "code",
   "execution_count": 11,
   "metadata": {
    "scrolled": true
   },
   "outputs": [],
   "source": [
    "Vf = np.flip(V, 0)"
   ]
  },
  {
   "cell_type": "code",
   "execution_count": 15,
   "metadata": {
    "scrolled": true
   },
   "outputs": [],
   "source": [
    "def gaussian(yp, xp, box):\n",
    "    # Generate grid of same size like box to put the fit on\n",
    "    y, x, = np.mgrid[:yp, :xp]\n",
    "    # Declare what function you want to fit to your data\n",
    "    f_init = models.Gaussian2D()\n",
    "    # Declare what fitting function you want to use\n",
    "    fit_f = fitting.LevMarLSQFitter()\n",
    "    \n",
    "    # Fit the model to your data (box)\n",
    "    fV = fit_f(f_init, x, y, box)\n",
    "    \n",
    "    return fV, x, y"
   ]
  },
  {
   "cell_type": "raw",
   "metadata": {
    "jupyter": {
     "source_hidden": true
    }
   },
   "source": [
    "# Plot the data with the best-fit model\n",
    "plt.figure(figsize=(16, 5))\n",
    "plt.subplot(1, 3, 1)\n",
    "#plt.imshow(box, cmap='gray')\n",
    "\n",
    "plt.xlabel('Pixels')\n",
    "plt.ylabel('Pixels')\n",
    "\n",
    "plt.tick_params(\n",
    "    axis='x',          # changes apply to the x-axis\n",
    "    which='both',      # both major and minor ticks are affected\n",
    "    bottom=True,      # ticks along the bottom edge are off\n",
    "    top=False,         # ticks along the top edge are off\n",
    "    labelbottom=True)\n",
    "\n",
    "plt.tick_params(\n",
    "    axis='y',          # changes apply to the x-axis\n",
    "    which='both',      # both major and minor ticks are affected\n",
    "    left=True,      # ticks along the bottom edge are off\n",
    "    right=False,         # ticks along the top edge are off\n",
    "    labelleft=True)\n",
    "\n",
    "\n",
    "plt.title(\"Star 1: V Band\")\n",
    "plt.subplot(1, 3, 2)\n",
    "\n",
    "plt.imshow(fV(x, y), cmap='gray')\n",
    "\n",
    "plt.xlabel('Pixels')\n",
    "plt.tick_params(\n",
    "    axis='x',          # changes apply to the x-axis\n",
    "    which='both',      # both major and minor ticks are affected\n",
    "    bottom=True,      # ticks along the bottom edge are off\n",
    "    top=False,         # ticks along the top edge are off\n",
    "    labelbottom=True)\n",
    "plt.tick_params(\n",
    "    axis='y',          # changes apply to the x-axis\n",
    "    which='both',      # both major and minor ticks are affected\n",
    "    left=False,      # ticks along the bottom edge are off\n",
    "    right=False,         # ticks along the top edge are off\n",
    "    labelleft=False)\n",
    "\n",
    "plt.title(r\"Gaussian Fit ($\\sigma = ?????$)\")\n",
    "plt.subplot(1, 3, 3)\n",
    "\n",
    "\n",
    "lol = (fV(x, y))\n",
    "#print(len(lol[10]/1000))\n",
    "\n",
    "plt.plot(range(20), lol[10]/1000, c='k')\n",
    "plt.title(\"Brightness Profile ($\\sigma = ?????$)\")\n",
    "plt.tick_params(\n",
    "    axis='y',          # changes apply to the x-axis\n",
    "    which='both',      # both major and minor ticks are affected\n",
    "    left=True,      # ticks along the bottom edge are off\n",
    "    right=False,         # ticks along the top edge are off\n",
    "    labelleft=False, labelright=True)\n",
    "plt.tick_params(\n",
    "    axis='x',          # changes apply to the x-axis\n",
    "    which='both',      # both major and minor ticks are affected\n",
    "    bottom=True,      # ticks along the bottom edge are off\n",
    "    top=False,         # ticks along the top edge are off\n",
    "    labelbottom=True)\n",
    "#plt.yaxis.set_label_position(\"right\")\n",
    "plt.xlabel('Pixels')\n",
    "plt.ylabel('Brightness (1000 counts)')\n",
    "\n",
    "plt.gcf().subplots_adjust(bottom=0.15)\n",
    "\n",
    "#plt.tight_layout()\n",
    "#plt.savefig('gaussian', dpi=200)"
   ]
  },
  {
   "cell_type": "code",
   "execution_count": 17,
   "metadata": {
    "scrolled": true
   },
   "outputs": [],
   "source": [
    "def sigma_avg(x,y):\n",
    "    return np.mean([float(x), float(y)])"
   ]
  },
  {
   "cell_type": "markdown",
   "metadata": {},
   "source": [
    "# Identify the stars you're looking at"
   ]
  },
  {
   "cell_type": "markdown",
   "metadata": {},
   "source": [
    "By comparing the images to some online catalog image server, you should be able to identify some of the stars. Use the known RA,Dec of these stars to estimate the pixel scale (arcsec/pix) of the image. Then convert the measured FWHM in pixels to FWHM in arcsec,"
   ]
  },
  {
   "cell_type": "code",
   "execution_count": 18,
   "metadata": {
    "scrolled": true
   },
   "outputs": [],
   "source": [
    "def px_to_arcsec(fwhm):\n",
    "    return fwhm*0.605"
   ]
  },
  {
   "cell_type": "markdown",
   "metadata": {},
   "source": [
    "## 0.605 arcsec/pixel ##"
   ]
  },
  {
   "cell_type": "markdown",
   "metadata": {},
   "source": [
    "http://nova.astrometry.net/user_images/4117481#annotated"
   ]
  },
  {
   "cell_type": "code",
   "execution_count": 184,
   "metadata": {
    "scrolled": true
   },
   "outputs": [],
   "source": [
    "def psf(image, targ_loc, boxsize, plot='star'): \n",
    "    #center = max of Gaussian fit\n",
    "    #1. We have the approx. location of each star.\n",
    "    #2. Cut out a square that's +/- 15 pixels from that location\n",
    "    \n",
    "    #4. We fit a gaussian to that thing (above)\n",
    "    #5. Find the pixel location of the max of gaussian - this is the center of the PSF\n",
    "    #6. Calculate 1.3#FWHM\n",
    "    #7. Go thru each pixel in the \"small cutout\" square: if it lies outisde of ^ distance, out\n",
    "    #8. Raw intensity = # of counts added up in there. N_targ = # of fixels in there.\n",
    "    #9. Get the donut between 2 and 3 FWHM\n",
    "    #10. Subtract 8-median(9)*N_targ\n",
    "    #11. Convert to instrumental magnitudes.\n",
    "    # pixel = go through all pixels. 2 for loops (rip computer time)\n",
    "    \n",
    "    ######## STEP 2 #########\n",
    "    F_sky_pix = []\n",
    "    \n",
    "    targ_loc[1] = 1266-targ_loc[1]\n",
    "    \n",
    "    xp, yp, current_image = cutout(image, boxsize, targ_loc)\n",
    "    \n",
    "    ######## STEP 4 #########\n",
    "    fV, x, y = gaussian(xp, yp, current_image)\n",
    "    \n",
    "    if plot=='star':\n",
    "        plt.imshow(current_image)\n",
    "        plt.show()\n",
    "    elif plot =='gaussian':\n",
    "        plt.imshow(fV(x,y))\n",
    "        plt.show()\n",
    "    \n",
    "    sigma = sigma_avg(fV.x_stddev[0],fV.y_stddev[0])\n",
    "    #xbar = fV.x_mean[0]\n",
    "    fwhm = 2.355*float(sigma)\n",
    "    fit = fV(x, y)\n",
    "    \n",
    "    center = np.where(fit == np.max(fit))\n",
    " \n",
    "    ######## STEP 7 #########\n",
    "    circ_image = np.zeros(current_image.shape)\n",
    "    N_targ = 0\n",
    "    for i in range(len(current_image)):\n",
    "        for j in range(len(current_image[0])):\n",
    "            dist = np.sqrt((center[0]-i)**2+(center[1]-j)**2)\n",
    "            if dist >= 2*fwhm and dist <= 3*fwhm:\n",
    "                F_sky_pix.append(current_image[i][j])  \n",
    "            if (dist > 1.3*fwhm):\n",
    "                circ_image[i][j] = 0.0 # this is the same cutout image but with all values outside of the radius set to NaN\n",
    "            else:\n",
    "                circ_image[i][j] = current_image[i][j]\n",
    "                N_targ+=1 # total number of pixels in the 1.3*fwhm\n",
    "\n",
    "    ######## STEP 8 #########\n",
    "    F_sky_pix_med = np.median(F_sky_pix)\n",
    "    F_targ_raw = 0\n",
    "    F_targ_raw = np.sum(circ_image)\n",
    "    \n",
    "    if plot=='cutout':\n",
    "        plt.imshow(circ_image)\n",
    "        plt.show()\n",
    "    \n",
    "\n",
    "    ######## STEP 10 #########\n",
    "    F_targ = F_targ_raw - N_targ*F_sky_pix_med\n",
    "    F_targ_pers = F_targ/5. #ADU/s\n",
    "                        \n",
    "    return F_targ, F_targ_pers\n",
    "    \n",
    "    "
   ]
  },
  {
   "cell_type": "code",
   "execution_count": 185,
   "metadata": {},
   "outputs": [],
   "source": [
    "#targlocs = [[440, 135], [382,1013], [529,634], [892, 1139]]\n",
    "#boxsizes = [25, 35, 55, 55]"
   ]
  },
  {
   "cell_type": "code",
   "execution_count": 190,
   "metadata": {
    "scrolled": false
   },
   "outputs": [
    {
     "name": "stdout",
     "output_type": "stream",
     "text": [
      "Location:  [10, 1028]   Boxsize:  25\n",
      "Location:  [440, 134]   Boxsize:  25\n"
     ]
    },
    {
     "data": {
      "image/png": "[encoded data removed]",
      "text/plain": [
       "<Figure size 432x288 with 1 Axes>"
      ]
     },
     "metadata": {
      "needs_background": "light"
     },
     "output_type": "display_data"
    },
    {
     "name": "stdout",
     "output_type": "stream",
     "text": [
      "35.7872215312981 7.15744430625962\n",
      "Location:  [382, 1013]   Boxsize:  35\n"
     ]
    },
    {
     "data": {
      "image/png": "[encoded data removed]",
      "text/plain": [
       "<Figure size 432x288 with 1 Axes>"
      ]
     },
     "metadata": {
      "needs_background": "light"
     },
     "output_type": "display_data"
    },
    {
     "name": "stdout",
     "output_type": "stream",
     "text": [
      "14.38235765993272 2.876471531986544\n",
      "Location:  [529, 634]   Boxsize:  55\n"
     ]
    },
    {
     "data": {
      "image/png": "[encoded data removed]",
      "text/plain": [
       "<Figure size 432x288 with 1 Axes>"
      ]
     },
     "metadata": {
      "needs_background": "light"
     },
     "output_type": "display_data"
    },
    {
     "name": "stdout",
     "output_type": "stream",
     "text": [
      "11.497039081072556 2.299407816214511\n",
      "Location:  [892, 1139]   Boxsize:  55\n"
     ]
    },
    {
     "data": {
      "image/png": "[encoded data removed]",
      "text/plain": [
       "<Figure size 432x288 with 1 Axes>"
      ]
     },
     "metadata": {
      "needs_background": "light"
     },
     "output_type": "display_data"
    },
    {
     "name": "stdout",
     "output_type": "stream",
     "text": [
      "10.01121923897554 2.002243847795108\n",
      "Location:  [334, 462]   Boxsize:  45\n"
     ]
    },
    {
     "data": {
      "image/png": "[encoded data removed]",
      "text/plain": [
       "<Figure size 432x288 with 1 Axes>"
      ]
     },
     "metadata": {
      "needs_background": "light"
     },
     "output_type": "display_data"
    },
    {
     "name": "stdout",
     "output_type": "stream",
     "text": [
      "11.338910621351555 2.267782124270311\n",
      "Location:  [506, 139]   Boxsize:  35\n"
     ]
    },
    {
     "data": {
      "image/png": "[encoded data removed]",
      "text/plain": [
       "<Figure size 432x288 with 1 Axes>"
      ]
     },
     "metadata": {
      "needs_background": "light"
     },
     "output_type": "display_data"
    },
    {
     "name": "stdout",
     "output_type": "stream",
     "text": [
      "12.97958830751144 2.595917661502288\n",
      "Location:  [1094, 1129]   Boxsize:  55\n"
     ]
    },
    {
     "data": {
      "image/png": "[encoded data removed]",
      "text/plain": [
       "<Figure size 432x288 with 1 Axes>"
      ]
     },
     "metadata": {
      "needs_background": "light"
     },
     "output_type": "display_data"
    },
    {
     "name": "stdout",
     "output_type": "stream",
     "text": [
      "6.862088983036446 1.3724177966072892\n",
      "Location:  [1159, 529]   Boxsize:  35\n"
     ]
    },
    {
     "data": {
      "image/png": "[encoded data removed]",
      "text/plain": [
       "<Figure size 432x288 with 1 Axes>"
      ]
     },
     "metadata": {
      "needs_background": "light"
     },
     "output_type": "display_data"
    },
    {
     "name": "stdout",
     "output_type": "stream",
     "text": [
      "2.1389255244893364 0.42778510489786725\n",
      "Location:  [554, 1034]   Boxsize:  40\n"
     ]
    },
    {
     "data": {
      "image/png": "[encoded data removed]",
      "text/plain": [
       "<Figure size 432x288 with 1 Axes>"
      ]
     },
     "metadata": {
      "needs_background": "light"
     },
     "output_type": "display_data"
    },
    {
     "name": "stdout",
     "output_type": "stream",
     "text": [
      "4.145188203672612 0.8290376407345225\n",
      "Location:  [194, 272]   Boxsize:  36\n"
     ]
    },
    {
     "data": {
      "image/png": "[encoded data removed]",
      "text/plain": [
       "<Figure size 432x288 with 1 Axes>"
      ]
     },
     "metadata": {
      "needs_background": "light"
     },
     "output_type": "display_data"
    },
    {
     "name": "stdout",
     "output_type": "stream",
     "text": [
      "6.2187581446074045 1.243751628921481\n",
      "Location:  [467, 851]   Boxsize:  20\n"
     ]
    },
    {
     "data": {
      "image/png": "[encoded data removed]",
      "text/plain": [
       "<Figure size 432x288 with 1 Axes>"
      ]
     },
     "metadata": {
      "needs_background": "light"
     },
     "output_type": "display_data"
    },
    {
     "name": "stdout",
     "output_type": "stream",
     "text": [
      "6.331687912182897 1.2663375824365795\n",
      "Location:  [329, 956]   Boxsize:  25\n"
     ]
    },
    {
     "data": {
      "image/png": "[encoded data removed]",
      "text/plain": [
       "<Figure size 432x288 with 1 Axes>"
      ]
     },
     "metadata": {
      "needs_background": "light"
     },
     "output_type": "display_data"
    },
    {
     "name": "stdout",
     "output_type": "stream",
     "text": [
      "4.025998749365607 0.8051997498731215\n",
      "Location:  [136, 314]   Boxsize:  25\n"
     ]
    },
    {
     "data": {
      "image/png": "[encoded data removed]",
      "text/plain": [
       "<Figure size 432x288 with 1 Axes>"
      ]
     },
     "metadata": {
      "needs_background": "light"
     },
     "output_type": "display_data"
    },
    {
     "name": "stdout",
     "output_type": "stream",
     "text": [
      "2.460634318754287 0.49212686375085746\n",
      "Location:  [314, 340]   Boxsize:  25\n"
     ]
    },
    {
     "data": {
      "image/png": "[encoded data removed]",
      "text/plain": [
       "<Figure size 432x288 with 1 Axes>"
      ]
     },
     "metadata": {
      "needs_background": "light"
     },
     "output_type": "display_data"
    },
    {
     "name": "stdout",
     "output_type": "stream",
     "text": [
      "2.9509034890641006 0.5901806978128201\n",
      "Location:  [318, 394]   Boxsize:  25\n"
     ]
    },
    {
     "data": {
      "image/png": "[encoded data removed]",
      "text/plain": [
       "<Figure size 432x288 with 1 Axes>"
      ]
     },
     "metadata": {
      "needs_background": "light"
     },
     "output_type": "display_data"
    },
    {
     "name": "stdout",
     "output_type": "stream",
     "text": [
      "2.6303523402854494 0.5260704680570899\n",
      "Location:  [719, 199]   Boxsize:  35\n"
     ]
    },
    {
     "data": {
      "image/png": "[encoded data removed]",
      "text/plain": [
       "<Figure size 432x288 with 1 Axes>"
      ]
     },
     "metadata": {
      "needs_background": "light"
     },
     "output_type": "display_data"
    },
    {
     "name": "stdout",
     "output_type": "stream",
     "text": [
      "2.9473356583584787 0.5894671316716957\n",
      "Location:  [797, 458]   Boxsize:  40\n"
     ]
    },
    {
     "data": {
      "image/png": "[encoded data removed]",
      "text/plain": [
       "<Figure size 432x288 with 1 Axes>"
      ]
     },
     "metadata": {
      "needs_background": "light"
     },
     "output_type": "display_data"
    },
    {
     "name": "stdout",
     "output_type": "stream",
     "text": [
      "3.855444243560285 0.7710888487120571\n",
      "Location:  [1159, 529]   Boxsize:  35\n"
     ]
    },
    {
     "data": {
      "image/png": "[encoded data removed]",
      "text/plain": [
       "<Figure size 432x288 with 1 Axes>"
      ]
     },
     "metadata": {
      "needs_background": "light"
     },
     "output_type": "display_data"
    },
    {
     "name": "stdout",
     "output_type": "stream",
     "text": [
      "2.1389255244893364 0.42778510489786725\n",
      "Location:  [966, 936]   Boxsize:  25\n"
     ]
    },
    {
     "data": {
      "image/png": "[encoded data removed]",
      "text/plain": [
       "<Figure size 432x288 with 1 Axes>"
      ]
     },
     "metadata": {
      "needs_background": "light"
     },
     "output_type": "display_data"
    },
    {
     "name": "stdout",
     "output_type": "stream",
     "text": [
      "4.736179392729666 0.9472358785459332\n"
     ]
    }
   ],
   "source": [
    "targlocs = [[106, 1034], [536,140], [478, 1019], [625, 640], [988, 1145], [430, 468], [602, 145], [1190,1135], [1255, 535], [650, 1040], [290, 278], [563, 857], [425, 962], [232,320], [410,346], [414,400], [815,205], [893,464], [1255,535], [1062,942]]\n",
    "boxsizes = [25, 25, 35, 55, 55, 45, 35, 55, 35, 40, 36, 20, 25, 25, 25, 25, 35, 40, 35, 25]\n",
    "\n",
    "\n",
    "for i in range(len(targlocs)):\n",
    "    for j in range(len(targlocs[0])):\n",
    "        if j==0:\n",
    "            targlocs[i][j] = targlocs[i][j] - 96\n",
    "        elif j==1:\n",
    "            targlocs[i][j] = targlocs[i][j] - 6\n",
    "\n",
    "\n",
    "for i in range(len(targlocs)):\n",
    "    print('Location: ', targlocs[i], '  Boxsize: ', boxsizes[i])\n",
    "    try:\n",
    "        F_targ, F_targ_pers = psf(Vf, targlocs[i], boxsizes[i], plot='cutout')\n",
    "        print(F_targ, F_targ_pers)\n",
    "    except TypeError:\n",
    "        pass\n",
    "    except ValueError:\n",
    "        pass"
   ]
  },
  {
   "cell_type": "code",
   "execution_count": null,
   "metadata": {},
   "outputs": [],
   "source": []
  },
  {
   "cell_type": "code",
   "execution_count": null,
   "metadata": {},
   "outputs": [],
   "source": []
  },
  {
   "cell_type": "code",
   "execution_count": null,
   "metadata": {},
   "outputs": [],
   "source": []
  },
  {
   "cell_type": "code",
   "execution_count": null,
   "metadata": {},
   "outputs": [],
   "source": []
  },
  {
   "cell_type": "code",
   "execution_count": null,
   "metadata": {},
   "outputs": [],
   "source": []
  },
  {
   "cell_type": "code",
   "execution_count": null,
   "metadata": {},
   "outputs": [],
   "source": []
  },
  {
   "cell_type": "code",
   "execution_count": null,
   "metadata": {},
   "outputs": [],
   "source": []
  },
  {
   "cell_type": "code",
   "execution_count": null,
   "metadata": {},
   "outputs": [],
   "source": []
  },
  {
   "cell_type": "code",
   "execution_count": 88,
   "metadata": {
    "scrolled": true
   },
   "outputs": [
    {
     "data": {
      "image/png": "[encoded data removed]",
      "text/plain": [
       "<Figure size 432x288 with 1 Axes>"
      ]
     },
     "metadata": {
      "needs_background": "light"
     },
     "output_type": "display_data"
    },
    {
     "data": {
      "text/plain": [
       "(35.7872215312981, 7.15744430625962)"
      ]
     },
     "execution_count": 88,
     "metadata": {},
     "output_type": "execute_result"
    }
   ],
   "source": [
    "psf(Vf, [440,135], 25)"
   ]
  },
  {
   "cell_type": "code",
   "execution_count": 21,
   "metadata": {
    "scrolled": true
   },
   "outputs": [
    {
     "name": "stdout",
     "output_type": "stream",
     "text": [
      "10.941713886690774\n"
     ]
    },
    {
     "name": "stderr",
     "output_type": "stream",
     "text": [
      "WARNING: The fit may be unsuccessful; check fit_info['message'] for more information. [astropy.modeling.fitting]\n"
     ]
    },
    {
     "data": {
      "text/plain": [
       "(10.527697593042124, 2.105539518608425)"
      ]
     },
     "execution_count": 21,
     "metadata": {},
     "output_type": "execute_result"
    },
    {
     "data": {
      "image/png": "[encoded data removed]",
      "text/plain": [
       "<Figure size 432x288 with 1 Axes>"
      ]
     },
     "metadata": {
      "needs_background": "light"
     },
     "output_type": "display_data"
    }
   ],
   "source": [
    "psf(Vf, [382,1013])"
   ]
  },
  {
   "cell_type": "code",
   "execution_count": 22,
   "metadata": {
    "scrolled": true
   },
   "outputs": [
    {
     "name": "stdout",
     "output_type": "stream",
     "text": [
      "13.451890811545448\n"
     ]
    },
    {
     "name": "stderr",
     "output_type": "stream",
     "text": [
      "/Users/nbudaiev/opt/anaconda3/lib/python3.8/site-packages/numpy/core/fromnumeric.py:3372: RuntimeWarning: Mean of empty slice.\n",
      "  return _methods._mean(a, axis=axis, dtype=dtype,\n",
      "/Users/nbudaiev/opt/anaconda3/lib/python3.8/site-packages/numpy/core/_methods.py:170: RuntimeWarning: invalid value encountered in double_scalars\n",
      "  ret = ret.dtype.type(ret / rcount)\n"
     ]
    },
    {
     "data": {
      "text/plain": [
       "(nan, nan)"
      ]
     },
     "execution_count": 22,
     "metadata": {},
     "output_type": "execute_result"
    },
    {
     "data": {
      "image/png": "[encoded data removed]",
      "text/plain": [
       "<Figure size 432x288 with 1 Axes>"
      ]
     },
     "metadata": {
      "needs_background": "light"
     },
     "output_type": "display_data"
    }
   ],
   "source": [
    "psf(Vf, [529,634])"
   ]
  },
  {
   "cell_type": "code",
   "execution_count": 23,
   "metadata": {
    "scrolled": true
   },
   "outputs": [
    {
     "name": "stdout",
     "output_type": "stream",
     "text": [
      "11.505180453597362\n"
     ]
    },
    {
     "data": {
      "text/plain": [
       "(nan, nan)"
      ]
     },
     "execution_count": 23,
     "metadata": {},
     "output_type": "execute_result"
    },
    {
     "data": {
      "image/png": "[encoded data removed]",
      "text/plain": [
       "<Figure size 432x288 with 1 Axes>"
      ]
     },
     "metadata": {
      "needs_background": "light"
     },
     "output_type": "display_data"
    }
   ],
   "source": [
    "psf(Vf, [892,1139])"
   ]
  },
  {
   "cell_type": "code",
   "execution_count": null,
   "metadata": {
    "scrolled": true
   },
   "outputs": [],
   "source": []
  },
  {
   "cell_type": "code",
   "execution_count": null,
   "metadata": {
    "scrolled": true
   },
   "outputs": [],
   "source": []
  },
  {
   "cell_type": "code",
   "execution_count": 31,
   "metadata": {
    "scrolled": true
   },
   "outputs": [],
   "source": [
    "#m_i = -2.5 * log(F)"
   ]
  },
  {
   "cell_type": "code",
   "execution_count": 32,
   "metadata": {
    "scrolled": true
   },
   "outputs": [
    {
     "ename": "SyntaxError",
     "evalue": "invalid syntax (<ipython-input-32-9bd461b91ae5>, line 1)",
     "output_type": "error",
     "traceback": [
      "\u001b[0;36m  File \u001b[0;32m\"<ipython-input-32-9bd461b91ae5>\"\u001b[0;36m, line \u001b[0;32m1\u001b[0m\n\u001b[0;31m    For a standard star:\u001b[0m\n\u001b[0m        ^\u001b[0m\n\u001b[0;31mSyntaxError\u001b[0m\u001b[0;31m:\u001b[0m invalid syntax\n"
     ]
    }
   ],
   "source": [
    "For a standard star:"
   ]
  },
  {
   "cell_type": "code",
   "execution_count": 33,
   "metadata": {
    "scrolled": true
   },
   "outputs": [
    {
     "ename": "SyntaxError",
     "evalue": "cannot assign to function call (<ipython-input-33-d4969ba6d96d>, line 1)",
     "output_type": "error",
     "traceback": [
      "\u001b[0;36m  File \u001b[0;32m\"<ipython-input-33-d4969ba6d96d>\"\u001b[0;36m, line \u001b[0;32m1\u001b[0m\n\u001b[0;31m    dm = m_cat(std) = m_i(std)\u001b[0m\n\u001b[0m         ^\u001b[0m\n\u001b[0;31mSyntaxError\u001b[0m\u001b[0;31m:\u001b[0m cannot assign to function call\n"
     ]
    }
   ],
   "source": [
    "dm = m_cat(std) = m_i(std)"
   ]
  },
  {
   "cell_type": "code",
   "execution_count": null,
   "metadata": {
    "scrolled": true
   },
   "outputs": [],
   "source": [
    "for target, m_obs = m_i(targ) + dm"
   ]
  },
  {
   "cell_type": "markdown",
   "metadata": {},
   "source": [
    "## PSF-Fitting Photometry\n",
    "#### This is an OPTIONAL \"bonus round\" to Homework 2 - no points deducted if you skip it.\n",
    "\n",
    "Try using a PSF-fitting program such as DAOPhot to do the photometry of the same 10 stars.  How well does it compare to the catalog photometry?"
   ]
  },
  {
   "cell_type": "code",
   "execution_count": null,
   "metadata": {
    "scrolled": true
   },
   "outputs": [],
   "source": []
  },
  {
   "cell_type": "code",
   "execution_count": null,
   "metadata": {
    "scrolled": true
   },
   "outputs": [],
   "source": []
  },
  {
   "cell_type": "code",
   "execution_count": null,
   "metadata": {
    "scrolled": true
   },
   "outputs": [],
   "source": []
  }
 ],
 "metadata": {
  "kernelspec": {
   "display_name": "Python 3",
   "language": "python",
   "name": "python3"
  },
  "language_info": {
   "codemirror_mode": {
    "name": "ipython",
    "version": 3
   },
   "file_extension": ".py",
   "mimetype": "text/x-python",
   "name": "python",
   "nbconvert_exporter": "python",
   "pygments_lexer": "ipython3",
   "version": "3.8.5"
  }
 },
 "nbformat": 4,
 "nbformat_minor": 4
}
