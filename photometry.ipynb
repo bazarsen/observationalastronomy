{
 "cells": [
  {
   "cell_type": "markdown",
   "metadata": {},
   "source": [
    "# Photometry Homework"
   ]
  },
  {
   "cell_type": "markdown",
   "metadata": {},
   "source": [
    "Obs Tech - Homework 2\n",
    "21 October 2020\n",
    "Due: Thursday (November 5)\n",
    "\n",
    "\n",
    "The primary goal of this homework is for the student to become familiar with the tools for photometry that will be needed for their class project. "
   ]
  },
  {
   "cell_type": "markdown",
   "metadata": {},
   "source": [
    "Median combine darks for each exposure time\n",
    "This creates the Master Dark for each exposure time\n",
    "Median combine flat images for each filter\n",
    "Subtract the appropriate Master Dark from the appropriate Combined Flat Image for each filter\n",
    "To create the Master Flat\n",
    "(master_flat = combined_flat-Dark / np.median(combined_flat)\n",
    "Take the individual science frames and subtract the appropriate master dark\n",
    "Divide by the master flat\n",
    "Align the images using np.roll on the array\n",
    "Now when they are aligned, median combine them to create master science "
   ]
  },
  {
   "cell_type": "code",
   "execution_count": 1,
   "metadata": {},
   "outputs": [],
   "source": [
    "from astropy.io import fits\n",
    "from glob import glob\n",
    "import numpy as np\n",
    "import matplotlib.pyplot as plt\n",
    "from scipy.optimize import curve_fit"
   ]
  },
  {
   "cell_type": "markdown",
   "metadata": {},
   "source": [
    "## Select data\n",
    "For this exercise, we will use RHO 14-inch data taken last week on the open cluster h Per.\n",
    "\n",
    "Inspect the images, and make sure that the data looks OK. "
   ]
  },
  {
   "cell_type": "code",
   "execution_count": 2,
   "metadata": {},
   "outputs": [
    {
     "name": "stderr",
     "output_type": "stream",
     "text": [
      "WARNING: non-ASCII characters are present in the FITS file header and have been replaced by \"?\" characters [astropy.io.fits.util]\n"
     ]
    },
    {
     "data": {
      "text/plain": [
       "(9, 1266, 1676)"
      ]
     },
     "execution_count": 2,
     "metadata": {},
     "output_type": "execute_result"
    }
   ],
   "source": [
    "darks_filenames = glob('2020-10-17/h_persei_darks*')\n",
    "darks = []\n",
    "darks_filters = []\n",
    "\n",
    "for i in range(len(darks_filenames[1:])):\n",
    "    darks.append(fits.getdata(darks_filenames[i]))\n",
    "    hdul = fits.open(darks_filenames[i])\n",
    "    darks_filters.append(hdul[0].header['FILTER'])\n",
    "    hdul.close()\n",
    "    \n",
    "darks = np.asarray(darks)\n",
    "darks = darks.astype(float)\n",
    "darks.shape"
   ]
  },
  {
   "cell_type": "code",
   "execution_count": 3,
   "metadata": {},
   "outputs": [],
   "source": [
    "flats_filenames = glob('2020-10-17/h_persei_flats*')\n",
    "flats = []\n",
    "flats_filters = []\n",
    "\n",
    "for i in range(len(flats_filenames[1:])):\n",
    "    flats.append(fits.getdata(flats_filenames[i]))\n",
    "    hdul = fits.open(flats_filenames[i])\n",
    "    flats_filters.append(hdul[0].header['FILTER'])\n",
    "    hdul.close()\n",
    "    \n",
    "\n",
    "flats_filters = np.asarray(flats_filters)\n",
    "flats = np.asarray(flats)\n",
    "flats = flats.astype(float)\n",
    "\n",
    "R_flats = flats[np.where(flats_filters == 'R')]\n",
    "V_flats = flats[np.where(flats_filters == 'V')]\n",
    "B_flats = flats[np.where(flats_filters == 'B')]\n",
    "I_flats = flats[np.where(flats_filters == 'I')]"
   ]
  },
  {
   "cell_type": "code",
   "execution_count": 211,
   "metadata": {},
   "outputs": [
    {
     "name": "stderr",
     "output_type": "stream",
     "text": [
      "WARNING: non-ASCII characters are present in the FITS file header and have been replaced by \"?\" characters [astropy.io.fits.util]\n"
     ]
    }
   ],
   "source": [
    "seq_filenames = np.sort(glob('2020-10-17/h_persei_seq*'))\n",
    "seq_light = []\n",
    "seq_dark = []\n",
    "seq_filters = []\n",
    "\n",
    "for i in range(len(seq_filenames[1:])):\n",
    "        \n",
    "    hdul = fits.open(seq_filenames[i])\n",
    "    if hdul[0].header['FRAME'] == 'Light':\n",
    "        seq_filters.append(hdul[0].header['FILTER'])\n",
    "        seq_light.append(fits.getdata(seq_filenames[i]))\n",
    "    else:\n",
    "        seq_dark.append(fits.getdata(seq_filenames[i]))\n",
    "    hdul.close()\n",
    "\n",
    "seq_filters = np.asarray(seq_filters)\n",
    "seq_light = np.asarray(seq_light)\n",
    "seq_light = seq_light.astype(float)\n",
    "\n",
    "\n",
    "R_seq = seq_light[np.where(seq_filters == 'R')]\n",
    "V_seq = seq_light[np.where(seq_filters == 'V')]\n",
    "B_seq = seq_light[np.where(seq_filters == 'B')]\n",
    "I_seq = seq_light[np.where(seq_filters == 'I')]"
   ]
  },
  {
   "cell_type": "markdown",
   "metadata": {},
   "source": [
    "### Master Dark:"
   ]
  },
  {
   "cell_type": "code",
   "execution_count": 246,
   "metadata": {},
   "outputs": [],
   "source": [
    "master_V_dark = np.median(seq_dark, axis=0)"
   ]
  },
  {
   "cell_type": "markdown",
   "metadata": {},
   "source": [
    "### Master Flat:"
   ]
  },
  {
   "cell_type": "code",
   "execution_count": 247,
   "metadata": {},
   "outputs": [],
   "source": [
    "comb_V_flat = np.median(V_flats,axis=0) - master_V_dark\n",
    "div = master_V_dark/np.median(comb_V_flat)\n",
    "master_V_flat = comb_V_flat - div"
   ]
  },
  {
   "cell_type": "markdown",
   "metadata": {},
   "source": [
    "### Subtract dark and divide by flat for each science frame"
   ]
  },
  {
   "cell_type": "code",
   "execution_count": 248,
   "metadata": {},
   "outputs": [],
   "source": [
    "V_proc = []\n",
    "\n",
    "for i in range(len(V_seq)):\n",
    "    V_proc_temp = V_seq[i] - master_V_dark\n",
    "    V_proc.append(V_proc_temp/master_V_flat)"
   ]
  },
  {
   "cell_type": "markdown",
   "metadata": {},
   "source": [
    "### Shifting frames"
   ]
  },
  {
   "cell_type": "code",
   "execution_count": 249,
   "metadata": {},
   "outputs": [],
   "source": [
    "V1 = V_seq[0]\n",
    "V2 = np.roll(V_proc[1], [0,4], axis=(0,1))\n",
    "V3 = np.roll(V_proc[2], [0,7], axis=(0,1))\n",
    "V4 = np.roll(V_proc[3], [0,7], axis=(0,1))\n",
    "V5 = np.roll(V_proc[4], [-1,8], axis=(0,1))\n",
    "V6 = np.roll(V_proc[5], [-2,7], axis=(0,1))\n",
    "V7 = np.roll(V_proc[6], [-3,5], axis=(0,1))\n",
    "V8 = np.roll(V_proc[7], [-6,3], axis=(0,1))\n",
    "V9 = np.roll(V_proc[8], [-8,2], axis=(0,1))\n",
    "V10 = np.roll(V_proc[9], [-10,-1], axis=(0,1))\n",
    "\n",
    "V = [V1, V2, V3, V4, V5, V6, V7, V8, V9, V10]\n",
    "V = np.asarray(V)\n",
    "V = np.median(V, axis=0)"
   ]
  },
  {
   "cell_type": "markdown",
   "metadata": {},
   "source": [
    "## PSF characteristics\n",
    "Use the image in one band you have selected to measure the typical FWHM (in pixels) of the stars in the field.  You should check several stars (3-5).  They should be isolated and relatively bright, but be sure to avoid saturated stars.  Record the FWHM values."
   ]
  },
  {
   "cell_type": "code",
   "execution_count": 52,
   "metadata": {},
   "outputs": [],
   "source": [
    "from astropy.modeling import models, fitting"
   ]
  },
  {
   "cell_type": "code",
   "execution_count": 66,
   "metadata": {},
   "outputs": [],
   "source": [
    "# Load the data and find center of PSF\n",
    "image = star_cut\n",
    "cents = np.where(image == np.max(image))\n",
    "xc = int(cents[1])\n",
    "yc = int(cents[0])"
   ]
  },
  {
   "cell_type": "code",
   "execution_count": 250,
   "metadata": {},
   "outputs": [],
   "source": [
    "# Cut out smaller box around PSF\n",
    "def cutout(image, bb, center):\n",
    "    xc = int(center[0])\n",
    "    yc = int(center[1])\n",
    "    box = image[yc-bb:yc+bb, xc-bb:xc+bb]\n",
    "    xp, yp = box.shape\n",
    "    return xp, yp, box"
   ]
  },
  {
   "cell_type": "code",
   "execution_count": 56,
   "metadata": {},
   "outputs": [],
   "source": [
    "# Generate grid of same size like box to put the fit on\n",
    "y, x, = np.mgrid[:yp, :xp]\n",
    "# Declare what function you want to fit to your data\n",
    "f_init = models.Gaussian2D()\n",
    "# Declare what fitting function you want to use\n",
    "fit_f = fitting.LevMarLSQFitter()"
   ]
  },
  {
   "cell_type": "code",
   "execution_count": 61,
   "metadata": {},
   "outputs": [],
   "source": [
    "# Fit the model to your data (box)\n",
    "\n",
    "fV = fit_f(f_init, x, y, box)"
   ]
  },
  {
   "cell_type": "code",
   "execution_count": 75,
   "metadata": {},
   "outputs": [],
   "source": [
    "def gaussian(yp, xp, box):\n",
    "    # Generate grid of same size like box to put the fit on\n",
    "    y, x, = np.mgrid[:yp, :xp]\n",
    "    # Declare what function you want to fit to your data\n",
    "    f_init = models.Gaussian2D()\n",
    "    # Declare what fitting function you want to use\n",
    "    fit_f = fitting.LevMarLSQFitter()\n",
    "    \n",
    "    # Fit the model to your data (box)\n",
    "    fV = fit_f(f_init, x, y, box)\n",
    "    \n",
    "    return fV"
   ]
  },
  {
   "cell_type": "code",
   "execution_count": 62,
   "metadata": {},
   "outputs": [
    {
     "data": {
      "image/png": "[encoded data removed]",
      "text/plain": [
       "<Figure size 1152x360 with 3 Axes>"
      ]
     },
     "metadata": {
      "needs_background": "light"
     },
     "output_type": "display_data"
    }
   ],
   "source": [
    "# Plot the data with the best-fit model\n",
    "plt.figure(figsize=(16, 5))\n",
    "plt.subplot(1, 3, 1)\n",
    "plt.imshow(box, cmap='gray')\n",
    "\n",
    "plt.xlabel('Pixels')\n",
    "plt.ylabel('Pixels')\n",
    "\n",
    "plt.tick_params(\n",
    "    axis='x',          # changes apply to the x-axis\n",
    "    which='both',      # both major and minor ticks are affected\n",
    "    bottom=True,      # ticks along the bottom edge are off\n",
    "    top=False,         # ticks along the top edge are off\n",
    "    labelbottom=True)\n",
    "\n",
    "plt.tick_params(\n",
    "    axis='y',          # changes apply to the x-axis\n",
    "    which='both',      # both major and minor ticks are affected\n",
    "    left=True,      # ticks along the bottom edge are off\n",
    "    right=False,         # ticks along the top edge are off\n",
    "    labelleft=True)\n",
    "\n",
    "\n",
    "plt.title(\"Star 1: V Band\")\n",
    "plt.subplot(1, 3, 2)\n",
    "\n",
    "plt.imshow(fV(x, y), cmap='gray')\n",
    "\n",
    "plt.xlabel('Pixels')\n",
    "plt.tick_params(\n",
    "    axis='x',          # changes apply to the x-axis\n",
    "    which='both',      # both major and minor ticks are affected\n",
    "    bottom=True,      # ticks along the bottom edge are off\n",
    "    top=False,         # ticks along the top edge are off\n",
    "    labelbottom=True)\n",
    "plt.tick_params(\n",
    "    axis='y',          # changes apply to the x-axis\n",
    "    which='both',      # both major and minor ticks are affected\n",
    "    left=False,      # ticks along the bottom edge are off\n",
    "    right=False,         # ticks along the top edge are off\n",
    "    labelleft=False)\n",
    "\n",
    "plt.title(r\"Gaussian Fit ($\\sigma = ?????$)\")\n",
    "plt.subplot(1, 3, 3)\n",
    "\n",
    "\n",
    "lol = (fV(x, y))\n",
    "#print(len(lol[10]/1000))\n",
    "\n",
    "plt.plot(range(20), lol[10]/1000, c='k')\n",
    "plt.title(\"Brightness Profile ($\\sigma = ?????$)\")\n",
    "plt.tick_params(\n",
    "    axis='y',          # changes apply to the x-axis\n",
    "    which='both',      # both major and minor ticks are affected\n",
    "    left=True,      # ticks along the bottom edge are off\n",
    "    right=False,         # ticks along the top edge are off\n",
    "    labelleft=False, labelright=True)\n",
    "plt.tick_params(\n",
    "    axis='x',          # changes apply to the x-axis\n",
    "    which='both',      # both major and minor ticks are affected\n",
    "    bottom=True,      # ticks along the bottom edge are off\n",
    "    top=False,         # ticks along the top edge are off\n",
    "    labelbottom=True)\n",
    "#plt.yaxis.set_label_position(\"right\")\n",
    "plt.xlabel('Pixels')\n",
    "plt.ylabel('Brightness (1000 counts)')\n",
    "\n",
    "plt.gcf().subplots_adjust(bottom=0.15)\n",
    "\n",
    "#plt.tight_layout()\n",
    "#plt.savefig('gaussian', dpi=200)"
   ]
  },
  {
   "cell_type": "code",
   "execution_count": 49,
   "metadata": {},
   "outputs": [],
   "source": [
    "def sigma_avg(x,y):\n",
    "    return np.mean([float(x), float(y)])"
   ]
  },
  {
   "cell_type": "markdown",
   "metadata": {},
   "source": [
    "# Identify the stars you're looking at"
   ]
  },
  {
   "cell_type": "markdown",
   "metadata": {},
   "source": [
    "By comparing the images to some online catalog image server, you should be able to identify some of the stars. Use the known RA,Dec of these stars to estimate the pixel scale (arcsec/pix) of the image. Then convert the measured FWHM in pixels to FWHM in arcsec,"
   ]
  },
  {
   "cell_type": "code",
   "execution_count": 50,
   "metadata": {},
   "outputs": [],
   "source": [
    "def px_to_arcsec(fwhm):\n",
    "    return fwhm*0.605"
   ]
  },
  {
   "cell_type": "markdown",
   "metadata": {},
   "source": [
    "## 0.605 arcsec/pixel ##"
   ]
  },
  {
   "cell_type": "markdown",
   "metadata": {},
   "source": [
    "http://nova.astrometry.net/user_images/4117481#annotated"
   ]
  },
  {
   "cell_type": "code",
   "execution_count": 254,
   "metadata": {},
   "outputs": [],
   "source": [
    "def psf(image, targ_loc): #center = max of Gaussian fit\n",
    "    #1. We have the approx. location of each star.\n",
    "    #2. Cut out a square that's +/- 15 pixels from that location\n",
    "    \n",
    "    #4. We fit a gaussian to that thing (above)\n",
    "    #5. Find the pixel location of the max of gaussian - this is the center of the PSF\n",
    "    #6. Calculate 1.3#FWHM\n",
    "    #7. Go thru each pixel in the \"small cutout\" square: if it lies outisde of ^ distance, out\n",
    "    #8. Raw intensity = # of counts added up in there. N_targ = # of fixels in there.\n",
    "    #9. Get the donut between 2 and 3 FWHM\n",
    "    #10. Subtract 8-median(9)*N_targ\n",
    "    #11. Convert to instrumental magnitudes.\n",
    "    # pixel = go through all pixels. 2 for loops (rip computer time)\n",
    "    \n",
    "    ######## STEP 2 #########\n",
    "    targ_loc[1] = 1266-targ_loc[1]\n",
    "    \n",
    "    xp, yp, current_image = cutout(image, 25, targ_loc)\n",
    "    plt.imshow(current_image)\n",
    "    #plt.imshow(box)\n",
    "    \n",
    "    ######## STEP 4 #########\n",
    "    fV = gaussian(xp, yp, current_image)\n",
    "    \n",
    "    sigma = sigma_avg(fV.x_stddev[0],fV.y_stddev[0])\n",
    "    xbar = fV.x_mean[0]\n",
    "    fwhm = 2.355*float(sigma)\n",
    "    \n",
    "    fit = fV(x, y)\n",
    "    center = np.where(fit == np.max(fit))\n",
    " \n",
    "    ######## STEP 7 #########\n",
    "    circ_image = current_image\n",
    "    N_targ = 0\n",
    "    for i in range(len(current_image)):\n",
    "        for j in range(current_image):\n",
    "            dist = sqrt((center[0]-current_image[i])**2+(center[1]-current_image[i]))**2\n",
    "            if (dist > 1.3*fwhm):\n",
    "                circ_image[i][j]=float(\"NaN\") # this is the same cutout image but with all values outside of the radius set to NaN\n",
    "            else:\n",
    "                N_targ+=1 # total number of pixels in the 1.3*fwhm\n",
    "    ######## STEP 8 #########\n",
    "    F_targ_raw = 0\n",
    "    F_targ_raw = np.sum(circ_image)\n",
    "    ######## STEP 9 ######### this step can be integrated into step 7, but is left here for clarity\n",
    "    for i in range(len(current_image)):\n",
    "        for j in range(current_image):\n",
    "            dist = sqrt((center[0]-current_image[i])**2+(center[1]-current_image[i]))**2\n",
    "            F_sky_pix = np.median(np.where(dist >= 2*fwhm and dist <= 3*fwhm)) # median of the donut\n",
    "    ######## STEP 10 #########\n",
    "    F_targ = F_targ_raw - N_targ*F_sky_pix\n",
    "                        \n",
    "    return F_targ\n",
    "    \n",
    "    "
   ]
  },
  {
   "cell_type": "code",
   "execution_count": 255,
   "metadata": {},
   "outputs": [],
   "source": [
    "Vf = np.flip(V, 0)"
   ]
  },
  {
   "cell_type": "code",
   "execution_count": 256,
   "metadata": {},
   "outputs": [],
   "source": [
    "# y, x ; y is flipped (-1266)"
   ]
  },
  {
   "cell_type": "code",
   "execution_count": 258,
   "metadata": {},
   "outputs": [
    {
     "ename": "TypeError",
     "evalue": "only integer scalar arrays can be converted to a scalar index",
     "output_type": "error",
     "traceback": [
      "\u001b[0;31m---------------------------------------------------------------------------\u001b[0m",
      "\u001b[0;31mTypeError\u001b[0m                                 Traceback (most recent call last)",
      "\u001b[0;32m<ipython-input-258-5172d37c2fa8>\u001b[0m in \u001b[0;36m<module>\u001b[0;34m\u001b[0m\n\u001b[0;32m----> 1\u001b[0;31m \u001b[0mprint\u001b[0m\u001b[0;34m(\u001b[0m\u001b[0mpsf\u001b[0m\u001b[0;34m(\u001b[0m\u001b[0mVf\u001b[0m\u001b[0;34m,\u001b[0m \u001b[0;34m[\u001b[0m\u001b[0;36m440\u001b[0m\u001b[0;34m,\u001b[0m\u001b[0;36m135\u001b[0m\u001b[0;34m]\u001b[0m\u001b[0;34m)\u001b[0m\u001b[0;34m)\u001b[0m\u001b[0;34m\u001b[0m\u001b[0;34m\u001b[0m\u001b[0m\n\u001b[0m",
      "\u001b[0;32m<ipython-input-254-618e43eab77b>\u001b[0m in \u001b[0;36mpsf\u001b[0;34m(image, targ_loc)\u001b[0m\n\u001b[1;32m     34\u001b[0m     \u001b[0mN_targ\u001b[0m \u001b[0;34m=\u001b[0m \u001b[0;36m0\u001b[0m\u001b[0;34m\u001b[0m\u001b[0;34m\u001b[0m\u001b[0m\n\u001b[1;32m     35\u001b[0m     \u001b[0;32mfor\u001b[0m \u001b[0mi\u001b[0m \u001b[0;32min\u001b[0m \u001b[0mrange\u001b[0m\u001b[0;34m(\u001b[0m\u001b[0mlen\u001b[0m\u001b[0;34m(\u001b[0m\u001b[0mcurrent_image\u001b[0m\u001b[0;34m)\u001b[0m\u001b[0;34m)\u001b[0m\u001b[0;34m:\u001b[0m\u001b[0;34m\u001b[0m\u001b[0;34m\u001b[0m\u001b[0m\n\u001b[0;32m---> 36\u001b[0;31m         \u001b[0;32mfor\u001b[0m \u001b[0mj\u001b[0m \u001b[0;32min\u001b[0m \u001b[0mrange\u001b[0m\u001b[0;34m(\u001b[0m\u001b[0mcurrent_image\u001b[0m\u001b[0;34m)\u001b[0m\u001b[0;34m:\u001b[0m\u001b[0;34m\u001b[0m\u001b[0;34m\u001b[0m\u001b[0m\n\u001b[0m\u001b[1;32m     37\u001b[0m             \u001b[0mdist\u001b[0m \u001b[0;34m=\u001b[0m \u001b[0msqrt\u001b[0m\u001b[0;34m(\u001b[0m\u001b[0;34m(\u001b[0m\u001b[0mcenter\u001b[0m\u001b[0;34m[\u001b[0m\u001b[0;36m0\u001b[0m\u001b[0;34m]\u001b[0m\u001b[0;34m-\u001b[0m\u001b[0mcurrent_image\u001b[0m\u001b[0;34m[\u001b[0m\u001b[0mi\u001b[0m\u001b[0;34m]\u001b[0m\u001b[0;34m)\u001b[0m\u001b[0;34m**\u001b[0m\u001b[0;36m2\u001b[0m\u001b[0;34m+\u001b[0m\u001b[0;34m(\u001b[0m\u001b[0mcenter\u001b[0m\u001b[0;34m[\u001b[0m\u001b[0;36m1\u001b[0m\u001b[0;34m]\u001b[0m\u001b[0;34m-\u001b[0m\u001b[0mcurrent_image\u001b[0m\u001b[0;34m[\u001b[0m\u001b[0mi\u001b[0m\u001b[0;34m]\u001b[0m\u001b[0;34m)\u001b[0m\u001b[0;34m)\u001b[0m\u001b[0;34m**\u001b[0m\u001b[0;36m2\u001b[0m\u001b[0;34m\u001b[0m\u001b[0;34m\u001b[0m\u001b[0m\n\u001b[1;32m     38\u001b[0m             \u001b[0;32mif\u001b[0m \u001b[0;34m(\u001b[0m\u001b[0mdist\u001b[0m \u001b[0;34m>\u001b[0m \u001b[0;36m1.3\u001b[0m\u001b[0;34m*\u001b[0m\u001b[0mfwhm\u001b[0m\u001b[0;34m)\u001b[0m\u001b[0;34m:\u001b[0m\u001b[0;34m\u001b[0m\u001b[0;34m\u001b[0m\u001b[0m\n",
      "\u001b[0;31mTypeError\u001b[0m: only integer scalar arrays can be converted to a scalar index"
     ]
    },
    {
     "data": {
      "image/png": "[encoded data removed]",
      "text/plain": [
       "<Figure size 432x288 with 1 Axes>"
      ]
     },
     "metadata": {
      "needs_background": "light"
     },
     "output_type": "display_data"
    }
   ],
   "source": [
    "print(psf(Vf, [440,135]))"
   ]
  },
  {
   "cell_type": "code",
   "execution_count": null,
   "metadata": {},
   "outputs": [],
   "source": []
  },
  {
   "cell_type": "code",
   "execution_count": null,
   "metadata": {},
   "outputs": [],
   "source": []
  },
  {
   "cell_type": "code",
   "execution_count": null,
   "metadata": {},
   "outputs": [],
   "source": []
  },
  {
   "cell_type": "code",
   "execution_count": null,
   "metadata": {},
   "outputs": [],
   "source": []
  },
  {
   "cell_type": "code",
   "execution_count": null,
   "metadata": {},
   "outputs": [],
   "source": []
  },
  {
   "cell_type": "markdown",
   "metadata": {},
   "source": [
    "## PSF-Fitting Photometry\n",
    "#### This is an OPTIONAL \"bonus round\" to Homework 2 - no points deducted if you skip it.\n",
    "\n",
    "Try using a PSF-fitting program such as DAOPhot to do the photometry of the same 10 stars.  How well does it compare to the catalog photometry?"
   ]
  },
  {
   "cell_type": "code",
   "execution_count": null,
   "metadata": {},
   "outputs": [],
   "source": []
  }
 ],
 "metadata": {
  "kernelspec": {
   "display_name": "Python 3",
   "language": "python",
   "name": "python3"
  },
  "language_info": {
   "codemirror_mode": {
    "name": "ipython",
    "version": 3
   },
   "file_extension": ".py",
   "mimetype": "text/x-python",
   "name": "python",
   "nbconvert_exporter": "python",
   "pygments_lexer": "ipython3",
   "version": "3.8.5"
  }
 },
 "nbformat": 4,
 "nbformat_minor": 4
}
